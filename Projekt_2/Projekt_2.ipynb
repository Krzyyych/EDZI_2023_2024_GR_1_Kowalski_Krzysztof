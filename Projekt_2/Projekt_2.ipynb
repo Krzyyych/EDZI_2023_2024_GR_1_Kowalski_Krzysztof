{
 "cells": [
  {
   "cell_type": "code",
   "execution_count": 1,
   "id": "7a88601d-0c1b-453c-a0d2-1bf1b98a7c1d",
   "metadata": {},
   "outputs": [],
   "source": [
    "import json\n",
    "import psycopg2\n",
    "import pandas as pd"
   ]
  },
  {
   "cell_type": "code",
   "execution_count": 2,
   "id": "5d830793-06fa-48d7-afbf-e1fc8bc4a762",
   "metadata": {
    "tags": []
   },
   "outputs": [],
   "source": [
    "with open('jobs_data.json', encoding= 'utf-8') as f:\n",
    "    oferty = json.load(f)"
   ]
  },
  {
   "cell_type": "code",
   "execution_count": 3,
   "id": "551bc3d8-5332-4452-8c5c-c0c7dfb0f879",
   "metadata": {
    "tags": []
   },
   "outputs": [
    {
     "data": {
      "text/plain": [
       "{'Źródło': 'justjoin.it',\n",
       " 'Link': 'https://justjoin.it/offers/haddad-brands-europe-power-bi-developer-partly-in-paris-krakow',\n",
       " 'Pozycja': 'Power BI Developer (Partly in Paris)',\n",
       " 'Firma': 'Haddad Brands Europe',\n",
       " 'Min salary': 20000.0,\n",
       " 'Max salary': 27000.0,\n",
       " 'Currency': 'PLN',\n",
       " 'Skills': ['Team Player',\n",
       "  'English',\n",
       "  'Power BI',\n",
       "  'MS SQL',\n",
       "  'Proactivity',\n",
       "  'Critical thinking',\n",
       "  'Software Architecture',\n",
       "  'French'],\n",
       " 'Category': 'Data',\n",
       " 'Seniority': 'Senior',\n",
       " 'Adres': None,\n",
       " 'Podsumowanie': 'This includes adding charts, maps, pivot tables, filters, KPI visualizations, etc.• Designs visual reports based on the needs of HBE or end users. These reports can be static or interactive, allowing users to derive meaningful insights from the data.• Publishes, after validation, reports online, allowing users to view and interact with them via a web browser or mobile application.• Also configures appropriate access permissions to control who can view and interact with the data.• Ensures that dashboards and reports function optimally in terms of loading speed, responsiveness of interactions, and efficient use of resources.• Trains users on how to use dashboards and reports, as well as provides technical support to resolve any issues encountered.• Integrates, if necessary, Power BI with other applications and systems such as SharePoint, Teams, Azure, Salesforce, Dynamics, Manhattan, to create more comprehensive and interconnected analytical solutions.MONITORING• Coordinates with various resources within the IT department related to their domain. • Reports on the progress of the various projects they lead.SECURING THE APPLICATION AND INFORMATION ASSETS• Drafts technical and functional documentation at the time of report delivery, describing the report data, necessary flow or associated services updates, Data lake or Cube updates...SKILLS• Proven experience in Power BI development.• Database administration.• SQL Server Reporting Services - Power BI.• Security, access management.• Software versioning, for example with Git.• Data backup.• In-depth knowledge of application technologies and architectures.• Mastery of application security issues.QUALITIES• Dynamism.• Negotiation management.• Communication and reporting.PROFILE SOUGHTWe are looking for a candidate with at least 5-7 years of experience in similar roles and who has already worked in an international context.The candidate must master Microsoft BI technologies, especially Power BI. This includes adding charts, maps, pivot tables, filters, KPI visualizations, etc.\\\\u003c/p\\\\u003e\\\\u003cp\\\\u003e• Designs visual reports based on the needs of HBE or end users. These reports can be static or interactive, allowing users to derive meaningful insights from the data.\\\\u003c/p\\\\u003e\\\\u003cp\\\\u003e• Publishes, after validation, reports online, allowing users to view and interact with them via a web browser or mobile application.\\\\u003c/p\\\\u003e\\\\u003cp\\\\u003e• Also configures appropriate access permissions to control who can view and interact with the data.\\\\u003c/p\\\\u003e\\\\u003cp\\\\u003e• Ensures that dashboards and reports function optimally in terms of loading speed, responsiveness of interactions, and efficient use of resources.\\\\u003c/p\\\\u003e\\\\u003cp\\\\u003e• Trains users on how to use dashboards and reports, as well as provides technical support to resolve any issues encountered.\\\\u003c/p\\\\u003e\\\\u003cp\\\\u003e• Integrates, if necessary, Power BI with other applications and systems such as SharePoint, Teams, Azure, Salesforce, Dynamics, Manhattan, to create more comprehensive and interconnected analytical solutions.\\\\u003c/p\\\\u003e\\\\u003cp\\\\u003e\\\\u003cbr\\\\u003e\\\\u003c/p\\\\u003e\\\\u003cp\\\\u003eMONITORING\\\\u003c/p\\\\u003e\\\\u003cp\\\\u003e• Coordinates with various resources within the IT department related to their domain. • Reports on the progress of the various projects they lead.\\\\u003c/p\\\\u003e\\\\u003cp\\\\u003e\\\\u003cbr\\\\u003e\\\\u003c/p\\\\u003e\\\\u003cp\\\\u003eSECURING THE APPLICATION AND INFORMATION ASSETS\\\\u003c/p\\\\u003e\\\\u003cp\\\\u003e• Drafts technical and functional documentation at the time of report delivery, describing the report data, necessary flow or associated services updates, Data lake or Cube updates...\\\\u003c/p\\\\u003e\\\\u003cp\\\\u003e\\\\u003cbr\\\\u003e\\\\u003c/p\\\\u003e\\\\u003cp\\\\u003eSKILLS\\\\u003c/p\\\\u003e\\\\u003cp\\\\u003e• Proven experience in Power BI development.\\\\u003c/p\\\\u003e\\\\u003cp\\\\u003e• Database administration.\\\\u003c/p\\\\u003e\\\\u003cp\\\\u003e• SQL Server Reporting Services - Power BI.\\\\u003c/p\\\\u003e\\\\u003cp\\\\u003e• Security, access management.\\\\u003c/p\\\\u003e\\\\u003cp\\\\u003e• Software versioning, for example with Git.\\\\u003c/p\\\\u003e\\\\u003cp\\\\u003e• Data backup.\\\\u003c/p\\\\u003e\\\\u003cp\\\\u003e• In-depth knowledge of application technologies and architectures.\\\\u003c/p\\\\u003e\\\\u003cp\\\\u003e• Mastery of application security issues.\\\\u003c/p\\\\u003e\\\\u003cp\\\\u003e\\\\u003cbr\\\\u003e\\\\u003c/p\\\\u003e\\\\u003cp\\\\u003eQUALITIES\\\\u003c/p\\\\u003e\\\\u003cp\\\\u003e• Dynamism.\\\\u003c/p\\\\u003e\\\\u003cp\\\\u003e• Negotiation management.\\\\u003c/p\\\\u003e\\\\u003cp\\\\u003e• Communication and reporting.\\\\u003c/p\\\\u003e\\\\u003cp\\\\u003e\\\\u003cbr\\\\u003e\\\\u003c/p\\\\u003e\\\\u003cp\\\\u003ePROFILE SOUGHT\\\\u003c/p\\\\u003e\\\\u003cp\\\\u003eWe are looking for a candidate with at least 5-7 years of experience in similar roles and who has already worked in an international context.\\\\u003c/p\\\\u003e\\\\u003cp\\\\u003eThe candidate must master Microsoft BI technologies, especially Power BI. Brief English conversation is possible in order to estimate the skills.\\\\u003c/p\\\\u003e\\\\u003cp\\\\u003e\\\\u003cbr\\\\u003e\\\\u003c/p\\\\u003e\\\\u003cp\\\\u003e\\\\u003cstrong\\\\u003eBenefits: \\\\u003c/strong\\\\u003eWe offer private medical insurance, 21 paid vacations a year in B2B, hardware/software, training and career-oriented development path, freedom in tools, friendly environment based on trust.\\\\u003c/p\\\\u003e\\\\u003cp\\\\u003e\\\\u003cbr\\\\u003e\\\\u003c/p\\\\u003e\\\\u003cp\\\\u003e\\\\u003ca href=\\\\-https://vimeo.com/915880637?share=copy\\\\- target=\\\\-_blank\\\\- rel=\\\\-nofollow noreferrer noopener\\\\-\\\\u003eMeet Haddad Brands on Vimeo\\\\u003c/a\\\\u003e\\\\u003c/p\\\\u003e-,-city-:-Kraków-,-street-:---,-latitude-:48.8575475,-longitude-:2.3513765,-companySize-:-101-500-,-informationClause-:-Informujemy, że administratorem danych jest Provide Systems z siedzibą w Warszawa, ul. Odmowa podania danych obowiązkowych może skutkować brakiem możliwości przeprowadzenia procesu rekrutacji. Dane osobowe będą przetwarzane do czasu zakończenia postępowania rekrutacyjnego i przez okres możliwości dochodzenia ewentualnych roszczeń, a w przypadku wyrażenia zgody na udział w przyszłych postępowaniach rekrutacyjnych - do czasu wycofania tej zgody. Zgoda na przetwarzanie danych osobowych może zostać wycofana w dowolnym momencie.',\n",
       " 'Id': 2}"
      ]
     },
     "execution_count": 3,
     "metadata": {},
     "output_type": "execute_result"
    }
   ],
   "source": [
    "oferty[1]"
   ]
  },
  {
   "cell_type": "code",
   "execution_count": 4,
   "id": "f8620115-9271-43ef-baca-048c9a3897cc",
   "metadata": {
    "tags": []
   },
   "outputs": [],
   "source": [
    "def create_tables(connection):\n",
    "    cursor = connection.cursor()\n",
    "    cursor.execute('''\n",
    "    CREATE TABLE IF NOT EXISTS DIMFirma (\n",
    "        ID SERIAL PRIMARY KEY,\n",
    "        Nazwa VARCHAR(100),\n",
    "        Adres VARCHAR(100)\n",
    "    )\n",
    "    ''')\n",
    "    cursor.execute('''\n",
    "    CREATE TABLE IF NOT EXISTS DIMStanowisko (\n",
    "        ID SERIAL PRIMARY KEY,\n",
    "        Nazwa VARCHAR(100)\n",
    "    )\n",
    "    ''')\n",
    "    \n",
    "    cursor.execute('''\n",
    "    CREATE TABLE IF NOT EXISTS DIMUmiejętność (\n",
    "        ID SERIAL PRIMARY KEY,\n",
    "        Nazwa VARCHAR(100)\n",
    "    )\n",
    "    ''')\n",
    "    \n",
    "    cursor.execute('''\n",
    "    CREATE TABLE IF NOT EXISTS DIMWaluta (\n",
    "        ID SERIAL PRIMARY KEY,\n",
    "        Nazwa VARCHAR(3)\n",
    "    )\n",
    "    ''')\n",
    "    \n",
    "    cursor.execute('''\n",
    "    CREATE TABLE IF NOT EXISTS DIMŹródło (\n",
    "        ID SERIAL PRIMARY KEY,\n",
    "        Nazwa VARCHAR(100)\n",
    "    )\n",
    "    ''')\n",
    "    cursor.execute('''\n",
    "    CREATE TABLE IF NOT EXISTS DIMKategoria (\n",
    "        ID SERIAL PRIMARY KEY,\n",
    "        Nazwa VARCHAR(100)\n",
    "    )\n",
    "    ''')\n",
    "    \n",
    "    cursor.execute('''\n",
    "    CREATE TABLE IF NOT EXISTS FACTOferta (\n",
    "        ID SERIAL PRIMARY KEY,\n",
    "        ID_Firmy INTEGER,\n",
    "        ID_Stanowiska INTEGER,\n",
    "        ID_Kategorii INTEGER,\n",
    "        ID_Waluty INTEGER,\n",
    "        ID_Źródła INTEGER,\n",
    "        Link VARCHAR(200),\n",
    "        Umiejętności VARCHAR(200),\n",
    "        Seniority VARCHAR(200),\n",
    "        Wynagrodzenie_MIN INTEGER,\n",
    "        Wynagrodzenie_MAX INTEGER,\n",
    "        Podsumowanie TEXT,\n",
    "        FOREIGN KEY (ID_Firmy) REFERENCES DIMFirma(ID),\n",
    "        FOREIGN KEY (ID_Stanowiska) REFERENCES DIMStanowisko(ID),\n",
    "        FOREIGN KEY (ID_Kategorii) REFERENCES DIMKategoria(ID),\n",
    "        FOREIGN KEY (ID_Waluty) REFERENCES DIMWaluta(ID),\n",
    "        FOREIGN KEY (ID_Źródła) REFERENCES DIMŹródło(ID)\n",
    "    )\n",
    "    ''')\n",
    "    connection.commit()\n",
    "    cursor.close()"
   ]
  },
  {
   "cell_type": "code",
   "execution_count": 5,
   "id": "f8088e56-9f2a-40b9-a0ca-5004d3e1c947",
   "metadata": {
    "tags": []
   },
   "outputs": [],
   "source": [
    "def get_or_insert_firma(connection, nazwa, adres):\n",
    "    cursor = connection.cursor()\n",
    "    cursor.execute(\"SELECT ID FROM DIMFirma WHERE Nazwa = %s\", (nazwa,))\n",
    "    result = cursor.fetchone()\n",
    "    if result is None:\n",
    "        cursor.execute(\"INSERT INTO DIMFirma (Nazwa, Adres) VALUES (%s, %s) RETURNING ID\", (nazwa, adres))\n",
    "        result = cursor.fetchone()\n",
    "    connection.commit()\n",
    "    cursor.close()\n",
    "    return result[0]"
   ]
  },
  {
   "cell_type": "code",
   "execution_count": 6,
   "id": "8fe4d884-52f2-422e-a4b9-32a52a93644e",
   "metadata": {},
   "outputs": [],
   "source": [
    "def get_or_insert_stanowisko(connection, nazwa):\n",
    "    cursor = connection.cursor()\n",
    "    cursor.execute(\"SELECT ID FROM DIMStanowisko WHERE Nazwa = %s\", (nazwa,))\n",
    "    result = cursor.fetchone()\n",
    "    if result is None:\n",
    "        cursor.execute(\"INSERT INTO DIMStanowisko (Nazwa) VALUES (%s) RETURNING ID\", (nazwa,))\n",
    "        result = cursor.fetchone()\n",
    "    connection.commit()\n",
    "    cursor.close()\n",
    "    return result[0]"
   ]
  },
  {
   "cell_type": "code",
   "execution_count": 7,
   "id": "e5fbbc16-e315-4d1a-be28-84301ad64fdc",
   "metadata": {},
   "outputs": [],
   "source": [
    "def get_or_insert_kategoria(connection, nazwa):\n",
    "    cursor = connection.cursor()\n",
    "    cursor.execute(\"SELECT ID FROM DIMKategoria WHERE Nazwa = %s\", (nazwa,))\n",
    "    result = cursor.fetchone()\n",
    "    if result is None:\n",
    "        cursor.execute(\"INSERT INTO DIMKategoria (Nazwa) VALUES (%s) RETURNING ID\", (nazwa,))\n",
    "        result = cursor.fetchone()\n",
    "    connection.commit()\n",
    "    cursor.close()\n",
    "    return result[0]"
   ]
  },
  {
   "cell_type": "code",
   "execution_count": 8,
   "id": "bc870062-e73c-4442-8e44-c97dbe0f04c9",
   "metadata": {},
   "outputs": [],
   "source": [
    "def get_or_insert_waluta(connection, nazwa):\n",
    "    cursor = connection.cursor()\n",
    "    cursor.execute(\"SELECT ID FROM DIMWaluta WHERE Nazwa = %s\", (nazwa,))\n",
    "    result = cursor.fetchone()\n",
    "    if result is None:\n",
    "        cursor.execute(\"INSERT INTO DIMWaluta (Nazwa) VALUES (%s) RETURNING ID\", (nazwa,))\n",
    "        result = cursor.fetchone()\n",
    "    connection.commit()\n",
    "    cursor.close()\n",
    "    return result[0]"
   ]
  },
  {
   "cell_type": "code",
   "execution_count": 9,
   "id": "3cdd6d40-2aee-4c64-9f99-57a23327dcd2",
   "metadata": {},
   "outputs": [],
   "source": [
    "def get_or_insert_zrodlo(connection, nazwa):\n",
    "    cursor = connection.cursor()\n",
    "    cursor.execute(\"SELECT ID FROM DIMŹródło WHERE Nazwa = %s\", (nazwa,))\n",
    "    result = cursor.fetchone()\n",
    "    if result is None:\n",
    "        cursor.execute(\"INSERT INTO DIMŹródło (Nazwa) VALUES (%s) RETURNING ID\", (nazwa,))\n",
    "        result = cursor.fetchone()\n",
    "    connection.commit()\n",
    "    cursor.close()\n",
    "    return result[0]"
   ]
  },
  {
   "cell_type": "code",
   "execution_count": 10,
   "id": "58c6f025-24b1-41ae-98b1-3364adb8492f",
   "metadata": {},
   "outputs": [],
   "source": [
    "def get_or_insert_umiejetnosc(connection, nazwa):\n",
    "    cursor = connection.cursor()\n",
    "    cursor.execute(\"SELECT ID FROM DIMUmiejętność WHERE Nazwa = %s\", (nazwa,))\n",
    "    result = cursor.fetchone()\n",
    "    if result is None:\n",
    "        cursor.execute(\"INSERT INTO DIMUmiejętność (Nazwa) VALUES (%s) RETURNING ID\", (nazwa,))\n",
    "        result = cursor.fetchone()\n",
    "    connection.commit()\n",
    "    cursor.close()\n",
    "    return result[0]"
   ]
  },
  {
   "cell_type": "code",
   "execution_count": 11,
   "id": "4d7c2a89-6be3-49c9-b96d-6b7c869a7447",
   "metadata": {},
   "outputs": [],
   "source": [
    "def insert_oferta(connection, firma, stanowisko, kategoria, waluta, zrodlo, link, umiejetnosci, seniority, wynagrodzenie_min, wynagrodzenie_max, podsumowanie):\n",
    "    cursor = connection.cursor()\n",
    "\n",
    "    id_firmy = get_or_insert_firma(connection, firma, None)\n",
    "    id_stanowiska = get_or_insert_stanowisko(connection, stanowisko)\n",
    "    id_kategorii = get_or_insert_kategoria(connection, kategoria)\n",
    "    id_waluty = get_or_insert_waluta(connection, waluta)\n",
    "    id_zrodla = get_or_insert_zrodlo(connection, zrodlo)\n",
    "\n",
    "    umiejetnosci_ids = [get_or_insert_umiejetnosc(connection, umiejetnosc) for umiejetnosc in umiejetnosci]\n",
    "    umiejetnosci_str = ', '.join(map(str, umiejetnosci_ids))\n",
    "\n",
    "    insert_query = '''\n",
    "    INSERT INTO FACTOferta (\n",
    "        ID_Firmy, ID_Stanowiska, ID_Kategorii, ID_Waluty, ID_Źródła,\n",
    "        Link, Umiejętności, Seniority, Wynagrodzenie_MIN, Wynagrodzenie_MAX, Podsumowanie\n",
    "    ) VALUES (%s, %s, %s, %s, %s, %s, %s, %s, %s, %s, %s)\n",
    "    '''\n",
    "    cursor.execute(insert_query, (id_firmy, id_stanowiska, id_kategorii, id_waluty, id_zrodla, link, umiejetnosci_str, seniority, wynagrodzenie_min, wynagrodzenie_max, podsumowanie))\n",
    "    connection.commit()\n",
    "    cursor.close()"
   ]
  },
  {
   "cell_type": "code",
   "execution_count": 12,
   "id": "1eeba6b5-8956-473c-a323-982d8d430714",
   "metadata": {},
   "outputs": [],
   "source": [
    "def fetch_factoferta(connection):\n",
    "    cursor = connection.cursor()\n",
    "    cursor.execute(\"SELECT * FROM FACTOferta LIMIT 5\")\n",
    "    rows = cursor.fetchall()\n",
    "    cursor.close()\n",
    "    return rows"
   ]
  },
  {
   "cell_type": "code",
   "execution_count": 13,
   "id": "812e5fbf-0b17-4556-971a-365b7bea15ff",
   "metadata": {
    "tags": []
   },
   "outputs": [
    {
     "name": "stdout",
     "output_type": "stream",
     "text": [
      "Połączono z bazą danych\n",
      "Zamknięto połączenie z bazą danych\n"
     ]
    }
   ],
   "source": [
    "try:\n",
    "    connection = psycopg2.connect(\n",
    "        dbname = 'projekt',\n",
    "        user = 'postgres',\n",
    "        password = 'postgres123',\n",
    "        host = 'localhost',\n",
    "        port = '5432',\n",
    "        options = \"-c search_path=public\",\n",
    "        client_encoding = \"UTF8\"\n",
    "    )\n",
    "    print(\"Połączono z bazą danych\")\n",
    "    create_tables(connection)\n",
    "    for oferta in oferty:\n",
    "        insert_oferta(\n",
    "            connection,\n",
    "            firma = oferta['Firma'],\n",
    "            stanowisko = oferta['Pozycja'],\n",
    "            kategoria = oferta['Category'],\n",
    "            waluta = oferta['Currency'],\n",
    "            zrodlo = oferta['Źródło'],\n",
    "            link = oferta['Link'],\n",
    "            umiejetnosci = oferta['Skills'],\n",
    "            seniority = oferta['Seniority'],\n",
    "            wynagrodzenie_min = int(oferta['Min salary']),\n",
    "            wynagrodzenie_max = int(oferta['Max salary']),\n",
    "            podsumowanie = oferta['Podsumowanie']\n",
    "        )\n",
    "    rows = fetch_factoferta(connection)\n",
    "except Exception as error:\n",
    "    print(f\"Błąd łaczenia z bazą danych: {error}\")\n",
    "    \n",
    "finally:\n",
    "    if connection:\n",
    "        connection.close()\n",
    "        print(\"Zamknięto połączenie z bazą danych\")"
   ]
  },
  {
   "cell_type": "code",
   "execution_count": 14,
   "id": "941fb22a-8b7c-48d5-9a85-eb518efca6c5",
   "metadata": {
    "tags": []
   },
   "outputs": [
    {
     "name": "stdout",
     "output_type": "stream",
     "text": [
      "(1, 1, 1, 1, 1, 1, 'https://justjoin.it/offers/cloudfide-business-intelligence-power-bi-developer-krakow-386118', '1, 2, 3, 4, 5, 6, 7, 8, 9', 'Senior', 11500, 25000, \"Creative and curious, you thrive on using data to fuel smart decisions. The role primarily involves translating business logic into DAX, optimizing user-written measures, and training users for enhanced self-sufficiency. The project offers an opportunity to improve problem-solving skills and gain substantial experience in data modeling.YOUR IMPACT ZONE Translating business requirements into technical solutions. 3+ years of experience in delivering complex BI solutions - it's your time to excel! Familiarity with public cloud architecture, security, networking concepts (MS Azure preferred) - we like our clouds secure and efficient. GROWTH:\\xa0Skyrocket your career by exploring new territories - you can work on various projects related to Big Data and Cloud. COLLABORATION:\\xa0Be part of our diverse, passionate team, where every voice matters. Creative and curious, you thrive on using data to fuel smart decisions. The role primarily involves translating business logic into DAX, optimizing user-written measures, and training users for enhanced self-sufficiency. Dane osobowe będą przetwarzane do czasu zakończenia postępowania rekrutacyjnego i przez okres możliwości dochodzenia ewentualnych roszczeń, a w przypadku wyrażenia zgody na udział w przyszłych postępowaniach rekrutacyjnych - do czasu wycofania tej zgody.\")\n",
      "(2, 2, 2, 1, 1, 1, 'https://justjoin.it/offers/haddad-brands-europe-power-bi-developer-partly-in-paris-krakow', '10, 11, 12, 13, 14, 15, 16, 17', 'Senior', 20000, 27000, 'This includes adding charts, maps, pivot tables, filters, KPI visualizations, etc.• Designs visual reports based on the needs of HBE or end users. These reports can be static or interactive, allowing users to derive meaningful insights from the data.• Publishes, after validation, reports online, allowing users to view and interact with them via a web browser or mobile application.• Also configures appropriate access permissions to control who can view and interact with the data.• Ensures that dashboards and reports function optimally in terms of loading speed, responsiveness of interactions, and efficient use of resources.• Trains users on how to use dashboards and reports, as well as provides technical support to resolve any issues encountered.• Integrates, if necessary, Power BI with other applications and systems such as SharePoint, Teams, Azure, Salesforce, Dynamics, Manhattan, to create more comprehensive and interconnected analytical solutions.MONITORING• Coordinates with various resources within the IT department related to their domain. • Reports on the progress of the various projects they lead.SECURING THE APPLICATION AND INFORMATION ASSETS• Drafts technical and functional documentation at the time of report delivery, describing the report data, necessary flow or associated services updates, Data lake or Cube updates...SKILLS• Proven experience in Power BI development.• Database administration.• SQL Server Reporting Services - Power BI.• Security, access management.• Software versioning, for example with Git.• Data backup.• In-depth knowledge of application technologies and architectures.• Mastery of application security issues.QUALITIES• Dynamism.• Negotiation management.• Communication and reporting.PROFILE SOUGHTWe are looking for a candidate with at least 5-7 years of experience in similar roles and who has already worked in an international context.The candidate must master Microsoft BI technologies, especially Power BI. This includes adding charts, maps, pivot tables, filters, KPI visualizations, etc.\\\\u003c/p\\\\u003e\\\\u003cp\\\\u003e• Designs visual reports based on the needs of HBE or end users. These reports can be static or interactive, allowing users to derive meaningful insights from the data.\\\\u003c/p\\\\u003e\\\\u003cp\\\\u003e• Publishes, after validation, reports online, allowing users to view and interact with them via a web browser or mobile application.\\\\u003c/p\\\\u003e\\\\u003cp\\\\u003e• Also configures appropriate access permissions to control who can view and interact with the data.\\\\u003c/p\\\\u003e\\\\u003cp\\\\u003e• Ensures that dashboards and reports function optimally in terms of loading speed, responsiveness of interactions, and efficient use of resources.\\\\u003c/p\\\\u003e\\\\u003cp\\\\u003e• Trains users on how to use dashboards and reports, as well as provides technical support to resolve any issues encountered.\\\\u003c/p\\\\u003e\\\\u003cp\\\\u003e• Integrates, if necessary, Power BI with other applications and systems such as SharePoint, Teams, Azure, Salesforce, Dynamics, Manhattan, to create more comprehensive and interconnected analytical solutions.\\\\u003c/p\\\\u003e\\\\u003cp\\\\u003e\\\\u003cbr\\\\u003e\\\\u003c/p\\\\u003e\\\\u003cp\\\\u003eMONITORING\\\\u003c/p\\\\u003e\\\\u003cp\\\\u003e• Coordinates with various resources within the IT department related to their domain. • Reports on the progress of the various projects they lead.\\\\u003c/p\\\\u003e\\\\u003cp\\\\u003e\\\\u003cbr\\\\u003e\\\\u003c/p\\\\u003e\\\\u003cp\\\\u003eSECURING THE APPLICATION AND INFORMATION ASSETS\\\\u003c/p\\\\u003e\\\\u003cp\\\\u003e• Drafts technical and functional documentation at the time of report delivery, describing the report data, necessary flow or associated services updates, Data lake or Cube updates...\\\\u003c/p\\\\u003e\\\\u003cp\\\\u003e\\\\u003cbr\\\\u003e\\\\u003c/p\\\\u003e\\\\u003cp\\\\u003eSKILLS\\\\u003c/p\\\\u003e\\\\u003cp\\\\u003e• Proven experience in Power BI development.\\\\u003c/p\\\\u003e\\\\u003cp\\\\u003e• Database administration.\\\\u003c/p\\\\u003e\\\\u003cp\\\\u003e• SQL Server Reporting Services - Power BI.\\\\u003c/p\\\\u003e\\\\u003cp\\\\u003e• Security, access management.\\\\u003c/p\\\\u003e\\\\u003cp\\\\u003e• Software versioning, for example with Git.\\\\u003c/p\\\\u003e\\\\u003cp\\\\u003e• Data backup.\\\\u003c/p\\\\u003e\\\\u003cp\\\\u003e• In-depth knowledge of application technologies and architectures.\\\\u003c/p\\\\u003e\\\\u003cp\\\\u003e• Mastery of application security issues.\\\\u003c/p\\\\u003e\\\\u003cp\\\\u003e\\\\u003cbr\\\\u003e\\\\u003c/p\\\\u003e\\\\u003cp\\\\u003eQUALITIES\\\\u003c/p\\\\u003e\\\\u003cp\\\\u003e• Dynamism.\\\\u003c/p\\\\u003e\\\\u003cp\\\\u003e• Negotiation management.\\\\u003c/p\\\\u003e\\\\u003cp\\\\u003e• Communication and reporting.\\\\u003c/p\\\\u003e\\\\u003cp\\\\u003e\\\\u003cbr\\\\u003e\\\\u003c/p\\\\u003e\\\\u003cp\\\\u003ePROFILE SOUGHT\\\\u003c/p\\\\u003e\\\\u003cp\\\\u003eWe are looking for a candidate with at least 5-7 years of experience in similar roles and who has already worked in an international context.\\\\u003c/p\\\\u003e\\\\u003cp\\\\u003eThe candidate must master Microsoft BI technologies, especially Power BI. Brief English conversation is possible in order to estimate the skills.\\\\u003c/p\\\\u003e\\\\u003cp\\\\u003e\\\\u003cbr\\\\u003e\\\\u003c/p\\\\u003e\\\\u003cp\\\\u003e\\\\u003cstrong\\\\u003eBenefits: \\\\u003c/strong\\\\u003eWe offer private medical insurance, 21 paid vacations a year in B2B, hardware/software, training and career-oriented development path, freedom in tools, friendly environment based on trust.\\\\u003c/p\\\\u003e\\\\u003cp\\\\u003e\\\\u003cbr\\\\u003e\\\\u003c/p\\\\u003e\\\\u003cp\\\\u003e\\\\u003ca href=\\\\-https://vimeo.com/915880637?share=copy\\\\- target=\\\\-_blank\\\\- rel=\\\\-nofollow noreferrer noopener\\\\-\\\\u003eMeet Haddad Brands on Vimeo\\\\u003c/a\\\\u003e\\\\u003c/p\\\\u003e-,-city-:-Kraków-,-street-:---,-latitude-:48.8575475,-longitude-:2.3513765,-companySize-:-101-500-,-informationClause-:-Informujemy, że administratorem danych jest Provide Systems z siedzibą w Warszawa, ul. Odmowa podania danych obowiązkowych może skutkować brakiem możliwości przeprowadzenia procesu rekrutacji. Dane osobowe będą przetwarzane do czasu zakończenia postępowania rekrutacyjnego i przez okres możliwości dochodzenia ewentualnych roszczeń, a w przypadku wyrażenia zgody na udział w przyszłych postępowaniach rekrutacyjnych - do czasu wycofania tej zgody. Zgoda na przetwarzanie danych osobowych może zostać wycofana w dowolnym momencie.')\n",
      "(3, 1, 1, 1, 1, 1, 'https://justjoin.it/offers/cloudfide-business-intelligence-power-bi-developer-krakow-386118', '1, 2, 3, 4, 5, 6, 7, 8, 9', 'Senior', 11500, 25000, \"Creative and curious, you thrive on using data to fuel smart decisions. The role primarily involves translating business logic into DAX, optimizing user-written measures, and training users for enhanced self-sufficiency. The project offers an opportunity to improve problem-solving skills and gain substantial experience in data modeling.YOUR IMPACT ZONE Translating business requirements into technical solutions. 3+ years of experience in delivering complex BI solutions - it's your time to excel! Familiarity with public cloud architecture, security, networking concepts (MS Azure preferred) - we like our clouds secure and efficient. GROWTH:\\xa0Skyrocket your career by exploring new territories - you can work on various projects related to Big Data and Cloud. COLLABORATION:\\xa0Be part of our diverse, passionate team, where every voice matters. Creative and curious, you thrive on using data to fuel smart decisions. The role primarily involves translating business logic into DAX, optimizing user-written measures, and training users for enhanced self-sufficiency. Dane osobowe będą przetwarzane do czasu zakończenia postępowania rekrutacyjnego i przez okres możliwości dochodzenia ewentualnych roszczeń, a w przypadku wyrażenia zgody na udział w przyszłych postępowaniach rekrutacyjnych - do czasu wycofania tej zgody.\")\n",
      "(4, 2, 2, 1, 1, 1, 'https://justjoin.it/offers/haddad-brands-europe-power-bi-developer-partly-in-paris-krakow', '10, 11, 12, 13, 14, 15, 16, 17', 'Senior', 20000, 27000, 'This includes adding charts, maps, pivot tables, filters, KPI visualizations, etc.• Designs visual reports based on the needs of HBE or end users. These reports can be static or interactive, allowing users to derive meaningful insights from the data.• Publishes, after validation, reports online, allowing users to view and interact with them via a web browser or mobile application.• Also configures appropriate access permissions to control who can view and interact with the data.• Ensures that dashboards and reports function optimally in terms of loading speed, responsiveness of interactions, and efficient use of resources.• Trains users on how to use dashboards and reports, as well as provides technical support to resolve any issues encountered.• Integrates, if necessary, Power BI with other applications and systems such as SharePoint, Teams, Azure, Salesforce, Dynamics, Manhattan, to create more comprehensive and interconnected analytical solutions.MONITORING• Coordinates with various resources within the IT department related to their domain. • Reports on the progress of the various projects they lead.SECURING THE APPLICATION AND INFORMATION ASSETS• Drafts technical and functional documentation at the time of report delivery, describing the report data, necessary flow or associated services updates, Data lake or Cube updates...SKILLS• Proven experience in Power BI development.• Database administration.• SQL Server Reporting Services - Power BI.• Security, access management.• Software versioning, for example with Git.• Data backup.• In-depth knowledge of application technologies and architectures.• Mastery of application security issues.QUALITIES• Dynamism.• Negotiation management.• Communication and reporting.PROFILE SOUGHTWe are looking for a candidate with at least 5-7 years of experience in similar roles and who has already worked in an international context.The candidate must master Microsoft BI technologies, especially Power BI. This includes adding charts, maps, pivot tables, filters, KPI visualizations, etc.\\\\u003c/p\\\\u003e\\\\u003cp\\\\u003e• Designs visual reports based on the needs of HBE or end users. These reports can be static or interactive, allowing users to derive meaningful insights from the data.\\\\u003c/p\\\\u003e\\\\u003cp\\\\u003e• Publishes, after validation, reports online, allowing users to view and interact with them via a web browser or mobile application.\\\\u003c/p\\\\u003e\\\\u003cp\\\\u003e• Also configures appropriate access permissions to control who can view and interact with the data.\\\\u003c/p\\\\u003e\\\\u003cp\\\\u003e• Ensures that dashboards and reports function optimally in terms of loading speed, responsiveness of interactions, and efficient use of resources.\\\\u003c/p\\\\u003e\\\\u003cp\\\\u003e• Trains users on how to use dashboards and reports, as well as provides technical support to resolve any issues encountered.\\\\u003c/p\\\\u003e\\\\u003cp\\\\u003e• Integrates, if necessary, Power BI with other applications and systems such as SharePoint, Teams, Azure, Salesforce, Dynamics, Manhattan, to create more comprehensive and interconnected analytical solutions.\\\\u003c/p\\\\u003e\\\\u003cp\\\\u003e\\\\u003cbr\\\\u003e\\\\u003c/p\\\\u003e\\\\u003cp\\\\u003eMONITORING\\\\u003c/p\\\\u003e\\\\u003cp\\\\u003e• Coordinates with various resources within the IT department related to their domain. • Reports on the progress of the various projects they lead.\\\\u003c/p\\\\u003e\\\\u003cp\\\\u003e\\\\u003cbr\\\\u003e\\\\u003c/p\\\\u003e\\\\u003cp\\\\u003eSECURING THE APPLICATION AND INFORMATION ASSETS\\\\u003c/p\\\\u003e\\\\u003cp\\\\u003e• Drafts technical and functional documentation at the time of report delivery, describing the report data, necessary flow or associated services updates, Data lake or Cube updates...\\\\u003c/p\\\\u003e\\\\u003cp\\\\u003e\\\\u003cbr\\\\u003e\\\\u003c/p\\\\u003e\\\\u003cp\\\\u003eSKILLS\\\\u003c/p\\\\u003e\\\\u003cp\\\\u003e• Proven experience in Power BI development.\\\\u003c/p\\\\u003e\\\\u003cp\\\\u003e• Database administration.\\\\u003c/p\\\\u003e\\\\u003cp\\\\u003e• SQL Server Reporting Services - Power BI.\\\\u003c/p\\\\u003e\\\\u003cp\\\\u003e• Security, access management.\\\\u003c/p\\\\u003e\\\\u003cp\\\\u003e• Software versioning, for example with Git.\\\\u003c/p\\\\u003e\\\\u003cp\\\\u003e• Data backup.\\\\u003c/p\\\\u003e\\\\u003cp\\\\u003e• In-depth knowledge of application technologies and architectures.\\\\u003c/p\\\\u003e\\\\u003cp\\\\u003e• Mastery of application security issues.\\\\u003c/p\\\\u003e\\\\u003cp\\\\u003e\\\\u003cbr\\\\u003e\\\\u003c/p\\\\u003e\\\\u003cp\\\\u003eQUALITIES\\\\u003c/p\\\\u003e\\\\u003cp\\\\u003e• Dynamism.\\\\u003c/p\\\\u003e\\\\u003cp\\\\u003e• Negotiation management.\\\\u003c/p\\\\u003e\\\\u003cp\\\\u003e• Communication and reporting.\\\\u003c/p\\\\u003e\\\\u003cp\\\\u003e\\\\u003cbr\\\\u003e\\\\u003c/p\\\\u003e\\\\u003cp\\\\u003ePROFILE SOUGHT\\\\u003c/p\\\\u003e\\\\u003cp\\\\u003eWe are looking for a candidate with at least 5-7 years of experience in similar roles and who has already worked in an international context.\\\\u003c/p\\\\u003e\\\\u003cp\\\\u003eThe candidate must master Microsoft BI technologies, especially Power BI. Brief English conversation is possible in order to estimate the skills.\\\\u003c/p\\\\u003e\\\\u003cp\\\\u003e\\\\u003cbr\\\\u003e\\\\u003c/p\\\\u003e\\\\u003cp\\\\u003e\\\\u003cstrong\\\\u003eBenefits: \\\\u003c/strong\\\\u003eWe offer private medical insurance, 21 paid vacations a year in B2B, hardware/software, training and career-oriented development path, freedom in tools, friendly environment based on trust.\\\\u003c/p\\\\u003e\\\\u003cp\\\\u003e\\\\u003cbr\\\\u003e\\\\u003c/p\\\\u003e\\\\u003cp\\\\u003e\\\\u003ca href=\\\\-https://vimeo.com/915880637?share=copy\\\\- target=\\\\-_blank\\\\- rel=\\\\-nofollow noreferrer noopener\\\\-\\\\u003eMeet Haddad Brands on Vimeo\\\\u003c/a\\\\u003e\\\\u003c/p\\\\u003e-,-city-:-Kraków-,-street-:---,-latitude-:48.8575475,-longitude-:2.3513765,-companySize-:-101-500-,-informationClause-:-Informujemy, że administratorem danych jest Provide Systems z siedzibą w Warszawa, ul. Odmowa podania danych obowiązkowych może skutkować brakiem możliwości przeprowadzenia procesu rekrutacji. Dane osobowe będą przetwarzane do czasu zakończenia postępowania rekrutacyjnego i przez okres możliwości dochodzenia ewentualnych roszczeń, a w przypadku wyrażenia zgody na udział w przyszłych postępowaniach rekrutacyjnych - do czasu wycofania tej zgody. Zgoda na przetwarzanie danych osobowych może zostać wycofana w dowolnym momencie.')\n",
      "(5, 1, 1, 1, 1, 1, 'https://justjoin.it/offers/cloudfide-business-intelligence-power-bi-developer-krakow-386118', '1, 2, 3, 4, 5, 6, 7, 8, 9', 'Senior', 11500, 25000, \"Creative and curious, you thrive on using data to fuel smart decisions. The role primarily involves translating business logic into DAX, optimizing user-written measures, and training users for enhanced self-sufficiency. The project offers an opportunity to improve problem-solving skills and gain substantial experience in data modeling.YOUR IMPACT ZONE Translating business requirements into technical solutions. 3+ years of experience in delivering complex BI solutions - it's your time to excel! Familiarity with public cloud architecture, security, networking concepts (MS Azure preferred) - we like our clouds secure and efficient. GROWTH:\\xa0Skyrocket your career by exploring new territories - you can work on various projects related to Big Data and Cloud. COLLABORATION:\\xa0Be part of our diverse, passionate team, where every voice matters. Creative and curious, you thrive on using data to fuel smart decisions. The role primarily involves translating business logic into DAX, optimizing user-written measures, and training users for enhanced self-sufficiency. Dane osobowe będą przetwarzane do czasu zakończenia postępowania rekrutacyjnego i przez okres możliwości dochodzenia ewentualnych roszczeń, a w przypadku wyrażenia zgody na udział w przyszłych postępowaniach rekrutacyjnych - do czasu wycofania tej zgody.\")\n"
     ]
    }
   ],
   "source": [
    "for row in rows:\n",
    "    print(row)"
   ]
  },
  {
   "cell_type": "code",
   "execution_count": null,
   "id": "f2189be8-dc6f-4f39-bbc3-0a005ae13a66",
   "metadata": {},
   "outputs": [],
   "source": []
  }
 ],
 "metadata": {
  "kernelspec": {
   "display_name": "Python 3 (ipykernel)",
   "language": "python",
   "name": "python3"
  },
  "language_info": {
   "codemirror_mode": {
    "name": "ipython",
    "version": 3
   },
   "file_extension": ".py",
   "mimetype": "text/x-python",
   "name": "python",
   "nbconvert_exporter": "python",
   "pygments_lexer": "ipython3",
   "version": "3.11.7"
  }
 },
 "nbformat": 4,
 "nbformat_minor": 5
}
