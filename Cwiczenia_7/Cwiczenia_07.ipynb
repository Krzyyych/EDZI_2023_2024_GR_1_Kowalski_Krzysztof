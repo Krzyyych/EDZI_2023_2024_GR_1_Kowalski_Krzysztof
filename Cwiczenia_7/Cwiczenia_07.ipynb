{
 "cells": [
  {
   "cell_type": "code",
   "execution_count": 89,
   "id": "1fbfee52-4b89-41c7-8923-ccf020ee4451",
   "metadata": {
    "tags": []
   },
   "outputs": [],
   "source": [
    "import requests\n",
    "from sumy.parsers.plaintext import PlaintextParser\n",
    "from sumy.nlp.tokenizers import Tokenizer\n",
    "from sumy.summarizers.lsa import LsaSummarizer\n",
    "from summarizer import Summarizer\n",
    "from gensim.summarization import summarize"
   ]
  },
  {
   "cell_type": "code",
   "execution_count": 6,
   "id": "f663cd4b-bbe1-4ae9-b6db-076f77a0a6e0",
   "metadata": {
    "tags": []
   },
   "outputs": [],
   "source": [
    "def get_wikipedia_article_text(title):\n",
    "    # Endpoint URL for the MediaWiki API\n",
    "    endpoint = \"https://en.wikipedia.org/w/api.php\"\n",
    "\n",
    "    article_params = {\n",
    "        \"action\": \"query\",\n",
    "        \"format\": \"json\",\n",
    "        \"prop\": \"extracts\",\n",
    "        \"titles\": title,\n",
    "        \"explaintext\": True  # Return plain text instead of HTML\n",
    "    }\n",
    "    article_response = requests.get(endpoint, params=article_params)\n",
    "    if article_response.status_code == 200:\n",
    "        article_data = article_response.json()\n",
    "        # Extract the text of the article\n",
    "        article_text = next(iter(article_data[\"query\"][\"pages\"].values()))[\"extract\"]\n",
    "        return article_text\n",
    "    else:\n",
    "        print(\"Failed to fetch article text\")"
   ]
  },
  {
   "cell_type": "code",
   "execution_count": 104,
   "id": "02c85502-4fbe-423f-8da6-bd6142332d89",
   "metadata": {
    "tags": []
   },
   "outputs": [],
   "source": [
    "def summarize_text(text, language, sentences_count = 10):\n",
    "    parser = PlaintextParser.from_string(text, Tokenizer(language))\n",
    "    summarizer = LsaSummarizer()\n",
    "    summary = summarizer(parser.document, sentences_count)\n",
    "    return ' '.join([str(sentence) for sentence in summary])"
   ]
  },
  {
   "cell_type": "code",
   "execution_count": 73,
   "id": "27ae29e5-cbf9-43d8-a746-fcb044ff3104",
   "metadata": {
    "tags": []
   },
   "outputs": [],
   "source": [
    "#ten mi cos nie dziala\n",
    "def summarize_with_bert(text, ratio=0.2):\n",
    "    model = Summarizer()\n",
    "    summary = model(text, ratio=ratio)\n",
    "    return summary"
   ]
  },
  {
   "cell_type": "code",
   "execution_count": 96,
   "id": "3f2f2aea-deea-483e-9ddd-1e2a3453857d",
   "metadata": {
    "tags": []
   },
   "outputs": [],
   "source": [
    "article_title = \"Cristiano_Ronaldo\"\n",
    "article_text = get_wikipedia_article_text(article_title)\n",
    "\n",
    "with open(\"org.txt\", \"w\", encoding=\"utf-8\") as file:\n",
    "    file.write(article_text)"
   ]
  },
  {
   "cell_type": "code",
   "execution_count": 106,
   "id": "ad44ef4d-4264-47ad-a782-5634d8178cbb",
   "metadata": {
    "tags": []
   },
   "outputs": [],
   "source": [
    "#dziala srednio\n",
    "summary_text = summarize_text(article_text, \"english\")\n",
    "with open(\"outcome.txt\", \"w\", encoding=\"utf-8\") as file:\n",
    "    file.write(summary_text)"
   ]
  },
  {
   "cell_type": "code",
   "execution_count": 109,
   "id": "3ddcafe7-230b-48e2-8bba-4cc99aa728d2",
   "metadata": {
    "tags": []
   },
   "outputs": [],
   "source": [
    "#chyba dziala najlepiej\n",
    "summary_text = summarize(article_text)\n",
    "with open(\"outcome.txt\", \"w\", encoding=\"utf-8\") as file:\n",
    "    file.write(summary_text)"
   ]
  },
  {
   "cell_type": "code",
   "execution_count": null,
   "id": "ede7cb7f-a70a-4673-8492-8d7b9b980d6b",
   "metadata": {},
   "outputs": [],
   "source": []
  }
 ],
 "metadata": {
  "kernelspec": {
   "display_name": "Python 3 (ipykernel)",
   "language": "python",
   "name": "python3"
  },
  "language_info": {
   "codemirror_mode": {
    "name": "ipython",
    "version": 3
   },
   "file_extension": ".py",
   "mimetype": "text/x-python",
   "name": "python",
   "nbconvert_exporter": "python",
   "pygments_lexer": "ipython3",
   "version": "3.11.7"
  }
 },
 "nbformat": 4,
 "nbformat_minor": 5
}
