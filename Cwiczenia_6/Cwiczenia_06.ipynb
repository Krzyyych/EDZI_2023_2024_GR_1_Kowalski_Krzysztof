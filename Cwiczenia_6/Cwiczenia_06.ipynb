{
 "cells": [
  {
   "cell_type": "code",
   "execution_count": 68,
   "id": "ee49da09-e3f5-4c4d-b81e-ad4ac33956a9",
   "metadata": {
    "tags": []
   },
   "outputs": [],
   "source": [
    "import requests\n",
    "import json\n",
    "import numpy as np\n",
    "import pandas as pd"
   ]
  },
  {
   "cell_type": "code",
   "execution_count": 70,
   "id": "8ba4875d-7919-4506-b5c6-f9294347dad6",
   "metadata": {
    "tags": []
   },
   "outputs": [],
   "source": [
    "def fetch_currency_data(currency_code):\n",
    "    url = f'http://api.nbp.pl/api/exchangerates/rates/A/{currency_code}/last/25/?format=json'\n",
    "    response = requests.get(url)\n",
    "    if response.status_code == 200:\n",
    "        return response.json()\n",
    "    else:\n",
    "        print(f\"Nie udało się pobrać danych dla waluty {currency_code}.\")\n",
    "        return None"
   ]
  },
  {
   "cell_type": "code",
   "execution_count": 72,
   "id": "e74ba54d-673e-4496-8296-1e9012c2c67c",
   "metadata": {
    "tags": []
   },
   "outputs": [],
   "source": [
    "currencies_data = []\n",
    "currencies = ['USD', 'CHF', 'EUR', 'GBP', 'JPY']\n",
    "for currency in currencies:    \n",
    "    json_api = fetch_currency_data(currency)\n",
    "    last_25 = [rate['mid'] for rate in json_api['rates']]\n",
    "    date_25 = [date['effectiveDate'] for date in json_api['rates']]\n",
    "    for date, value in zip(date_25, last_25):\n",
    "        currency_dict = {'code': currency, 'date': date, 'value': value}\n",
    "        currencies_data.append(currency_dict)"
   ]
  },
  {
   "cell_type": "code",
   "execution_count": 74,
   "id": "0ac741d2-d3ac-4f85-abe0-ce34e012c8a1",
   "metadata": {
    "tags": []
   },
   "outputs": [],
   "source": [
    "with open('currency_data.json', 'w') as json_file:\n",
    "    json.dump(currencies_data, json_file, indent = 4)"
   ]
  },
  {
   "cell_type": "code",
   "execution_count": 76,
   "id": "9f37e159-ffbe-490b-af19-fb92dcd0d7ba",
   "metadata": {
    "tags": []
   },
   "outputs": [
    {
     "data": {
      "text/plain": [
       "[{'code': 'USD', 'date': '2024-03-19', 'value': 3.9866},\n",
       " {'code': 'USD', 'date': '2024-03-20', 'value': 3.9895},\n",
       " {'code': 'USD', 'date': '2024-03-21', 'value': 3.9431},\n",
       " {'code': 'USD', 'date': '2024-03-22', 'value': 3.9928},\n",
       " {'code': 'USD', 'date': '2024-03-25', 'value': 3.9833},\n",
       " {'code': 'USD', 'date': '2024-03-26', 'value': 3.9704},\n",
       " {'code': 'USD', 'date': '2024-03-27', 'value': 3.9857},\n",
       " {'code': 'USD', 'date': '2024-03-28', 'value': 4.0081},\n",
       " {'code': 'USD', 'date': '2024-03-29', 'value': 3.9886},\n",
       " {'code': 'USD', 'date': '2024-04-02', 'value': 4.0009},\n",
       " {'code': 'USD', 'date': '2024-04-03', 'value': 3.9843},\n",
       " {'code': 'USD', 'date': '2024-04-04', 'value': 3.9515},\n",
       " {'code': 'USD', 'date': '2024-04-05', 'value': 3.9571},\n",
       " {'code': 'USD', 'date': '2024-04-08', 'value': 3.9546},\n",
       " {'code': 'USD', 'date': '2024-04-09', 'value': 3.9223},\n",
       " {'code': 'USD', 'date': '2024-04-10', 'value': 3.9264},\n",
       " {'code': 'USD', 'date': '2024-04-11', 'value': 3.9707},\n",
       " {'code': 'USD', 'date': '2024-04-12', 'value': 3.9983},\n",
       " {'code': 'USD', 'date': '2024-04-15', 'value': 4.0209},\n",
       " {'code': 'USD', 'date': '2024-04-16', 'value': 4.0687},\n",
       " {'code': 'USD', 'date': '2024-04-17', 'value': 4.0741},\n",
       " {'code': 'USD', 'date': '2024-04-18', 'value': 4.0559},\n",
       " {'code': 'USD', 'date': '2024-04-19', 'value': 4.0688},\n",
       " {'code': 'USD', 'date': '2024-04-22', 'value': 4.054},\n",
       " {'code': 'USD', 'date': '2024-04-23', 'value': 4.061},\n",
       " {'code': 'CHF', 'date': '2024-03-19', 'value': 4.4886},\n",
       " {'code': 'CHF', 'date': '2024-03-20', 'value': 4.4771},\n",
       " {'code': 'CHF', 'date': '2024-03-21', 'value': 4.4069},\n",
       " {'code': 'CHF', 'date': '2024-03-22', 'value': 4.4337},\n",
       " {'code': 'CHF', 'date': '2024-03-25', 'value': 4.4371},\n",
       " {'code': 'CHF', 'date': '2024-03-26', 'value': 4.4047},\n",
       " {'code': 'CHF', 'date': '2024-03-27', 'value': 4.4018},\n",
       " {'code': 'CHF', 'date': '2024-03-28', 'value': 4.4228},\n",
       " {'code': 'CHF', 'date': '2024-03-29', 'value': 4.425},\n",
       " {'code': 'CHF', 'date': '2024-04-02', 'value': 4.4037},\n",
       " {'code': 'CHF', 'date': '2024-04-03', 'value': 4.3875},\n",
       " {'code': 'CHF', 'date': '2024-04-04', 'value': 4.3621},\n",
       " {'code': 'CHF', 'date': '2024-04-05', 'value': 4.3796},\n",
       " {'code': 'CHF', 'date': '2024-04-08', 'value': 4.3667},\n",
       " {'code': 'CHF', 'date': '2024-04-09', 'value': 4.3366},\n",
       " {'code': 'CHF', 'date': '2024-04-10', 'value': 4.3447},\n",
       " {'code': 'CHF', 'date': '2024-04-11', 'value': 4.3451},\n",
       " {'code': 'CHF', 'date': '2024-04-12', 'value': 4.3805},\n",
       " {'code': 'CHF', 'date': '2024-04-15', 'value': 4.4047},\n",
       " {'code': 'CHF', 'date': '2024-04-16', 'value': 4.4554},\n",
       " {'code': 'CHF', 'date': '2024-04-17', 'value': 4.4777},\n",
       " {'code': 'CHF', 'date': '2024-04-18', 'value': 4.4637},\n",
       " {'code': 'CHF', 'date': '2024-04-19', 'value': 4.4787},\n",
       " {'code': 'CHF', 'date': '2024-04-22', 'value': 4.4505},\n",
       " {'code': 'CHF', 'date': '2024-04-23', 'value': 4.4535},\n",
       " {'code': 'EUR', 'date': '2024-03-19', 'value': 4.3201},\n",
       " {'code': 'EUR', 'date': '2024-03-20', 'value': 4.3242},\n",
       " {'code': 'EUR', 'date': '2024-03-21', 'value': 4.3031},\n",
       " {'code': 'EUR', 'date': '2024-03-22', 'value': 4.3186},\n",
       " {'code': 'EUR', 'date': '2024-03-25', 'value': 4.3091},\n",
       " {'code': 'EUR', 'date': '2024-03-26', 'value': 4.3093},\n",
       " {'code': 'EUR', 'date': '2024-03-27', 'value': 4.3153},\n",
       " {'code': 'EUR', 'date': '2024-03-28', 'value': 4.3191},\n",
       " {'code': 'EUR', 'date': '2024-03-29', 'value': 4.3009},\n",
       " {'code': 'EUR', 'date': '2024-04-02', 'value': 4.2934},\n",
       " {'code': 'EUR', 'date': '2024-04-03', 'value': 4.2923},\n",
       " {'code': 'EUR', 'date': '2024-04-04', 'value': 4.2921},\n",
       " {'code': 'EUR', 'date': '2024-04-05', 'value': 4.2883},\n",
       " {'code': 'EUR', 'date': '2024-04-08', 'value': 4.2805},\n",
       " {'code': 'EUR', 'date': '2024-04-09', 'value': 4.2588},\n",
       " {'code': 'EUR', 'date': '2024-04-10', 'value': 4.2641},\n",
       " {'code': 'EUR', 'date': '2024-04-11', 'value': 4.2649},\n",
       " {'code': 'EUR', 'date': '2024-04-12', 'value': 4.2666},\n",
       " {'code': 'EUR', 'date': '2024-04-15', 'value': 4.2851},\n",
       " {'code': 'EUR', 'date': '2024-04-16', 'value': 4.3197},\n",
       " {'code': 'EUR', 'date': '2024-04-17', 'value': 4.3353},\n",
       " {'code': 'EUR', 'date': '2024-04-18', 'value': 4.3309},\n",
       " {'code': 'EUR', 'date': '2024-04-19', 'value': 4.3316},\n",
       " {'code': 'EUR', 'date': '2024-04-22', 'value': 4.3203},\n",
       " {'code': 'EUR', 'date': '2024-04-23', 'value': 4.3335},\n",
       " {'code': 'GBP', 'date': '2024-03-19', 'value': 5.0516},\n",
       " {'code': 'GBP', 'date': '2024-03-20', 'value': 5.0635},\n",
       " {'code': 'GBP', 'date': '2024-03-21', 'value': 5.0367},\n",
       " {'code': 'GBP', 'date': '2024-03-22', 'value': 5.0257},\n",
       " {'code': 'GBP', 'date': '2024-03-25', 'value': 5.0246},\n",
       " {'code': 'GBP', 'date': '2024-03-26', 'value': 5.0243},\n",
       " {'code': 'GBP', 'date': '2024-03-27', 'value': 5.0327},\n",
       " {'code': 'GBP', 'date': '2024-03-28', 'value': 5.0474},\n",
       " {'code': 'GBP', 'date': '2024-03-29', 'value': 5.03},\n",
       " {'code': 'GBP', 'date': '2024-04-02', 'value': 5.0256},\n",
       " {'code': 'GBP', 'date': '2024-04-03', 'value': 5.0117},\n",
       " {'code': 'GBP', 'date': '2024-04-04', 'value': 5.0042},\n",
       " {'code': 'GBP', 'date': '2024-04-05', 'value': 5.0003},\n",
       " {'code': 'GBP', 'date': '2024-04-08', 'value': 4.9915},\n",
       " {'code': 'GBP', 'date': '2024-04-09', 'value': 4.966},\n",
       " {'code': 'GBP', 'date': '2024-04-10', 'value': 4.9843},\n",
       " {'code': 'GBP', 'date': '2024-04-11', 'value': 4.9835},\n",
       " {'code': 'GBP', 'date': '2024-04-12', 'value': 5.0007},\n",
       " {'code': 'GBP', 'date': '2024-04-15', 'value': 5.0192},\n",
       " {'code': 'GBP', 'date': '2024-04-16', 'value': 5.0609},\n",
       " {'code': 'GBP', 'date': '2024-04-17', 'value': 5.0812},\n",
       " {'code': 'GBP', 'date': '2024-04-18', 'value': 5.0589},\n",
       " {'code': 'GBP', 'date': '2024-04-19', 'value': 5.0615},\n",
       " {'code': 'GBP', 'date': '2024-04-22', 'value': 5.0131},\n",
       " {'code': 'GBP', 'date': '2024-04-23', 'value': 5.0238},\n",
       " {'code': 'JPY', 'date': '2024-03-19', 'value': 0.026455},\n",
       " {'code': 'JPY', 'date': '2024-03-20', 'value': 0.026301},\n",
       " {'code': 'JPY', 'date': '2024-03-21', 'value': 0.026098},\n",
       " {'code': 'JPY', 'date': '2024-03-22', 'value': 0.026334},\n",
       " {'code': 'JPY', 'date': '2024-03-25', 'value': 0.026309},\n",
       " {'code': 'JPY', 'date': '2024-03-26', 'value': 0.026247},\n",
       " {'code': 'JPY', 'date': '2024-03-27', 'value': 0.026347},\n",
       " {'code': 'JPY', 'date': '2024-03-28', 'value': 0.026472},\n",
       " {'code': 'JPY', 'date': '2024-03-29', 'value': 0.026366},\n",
       " {'code': 'JPY', 'date': '2024-04-02', 'value': 0.026384},\n",
       " {'code': 'JPY', 'date': '2024-04-03', 'value': 0.026262},\n",
       " {'code': 'JPY', 'date': '2024-04-04', 'value': 0.026045},\n",
       " {'code': 'JPY', 'date': '2024-04-05', 'value': 0.026133},\n",
       " {'code': 'JPY', 'date': '2024-04-08', 'value': 0.026035},\n",
       " {'code': 'JPY', 'date': '2024-04-09', 'value': 0.025823},\n",
       " {'code': 'JPY', 'date': '2024-04-10', 'value': 0.025856},\n",
       " {'code': 'JPY', 'date': '2024-04-11', 'value': 0.025911},\n",
       " {'code': 'JPY', 'date': '2024-04-12', 'value': 0.02608},\n",
       " {'code': 'JPY', 'date': '2024-04-15', 'value': 0.026134},\n",
       " {'code': 'JPY', 'date': '2024-04-16', 'value': 0.026335},\n",
       " {'code': 'JPY', 'date': '2024-04-17', 'value': 0.026359},\n",
       " {'code': 'JPY', 'date': '2024-04-18', 'value': 0.026274},\n",
       " {'code': 'JPY', 'date': '2024-04-19', 'value': 0.02635},\n",
       " {'code': 'JPY', 'date': '2024-04-22', 'value': 0.026202},\n",
       " {'code': 'JPY', 'date': '2024-04-23', 'value': 0.026226}]"
      ]
     },
     "execution_count": 76,
     "metadata": {},
     "output_type": "execute_result"
    }
   ],
   "source": [
    "currencies_data"
   ]
  },
  {
   "cell_type": "code",
   "execution_count": null,
   "id": "f8227ac2-efd7-4401-885e-002eec6e7c29",
   "metadata": {},
   "outputs": [],
   "source": []
  }
 ],
 "metadata": {
  "kernelspec": {
   "display_name": "Python 3 (ipykernel)",
   "language": "python",
   "name": "python3"
  },
  "language_info": {
   "codemirror_mode": {
    "name": "ipython",
    "version": 3
   },
   "file_extension": ".py",
   "mimetype": "text/x-python",
   "name": "python",
   "nbconvert_exporter": "python",
   "pygments_lexer": "ipython3",
   "version": "3.11.7"
  }
 },
 "nbformat": 4,
 "nbformat_minor": 5
}
